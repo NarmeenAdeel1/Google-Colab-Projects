{
  "nbformat": 4,
  "nbformat_minor": 0,
  "metadata": {
    "colab": {
      "provenance": [],
      "authorship_tag": "ABX9TyMleoaIG8O26dDCvgLC3Co5",
      "include_colab_link": true
    },
    "kernelspec": {
      "name": "python3",
      "display_name": "Python 3"
    },
    "language_info": {
      "name": "python"
    }
  },
  "cells": [
    {
      "cell_type": "markdown",
      "metadata": {
        "id": "view-in-github",
        "colab_type": "text"
      },
      "source": [
        "<a href=\"https://colab.research.google.com/github/NarmeenAdeel1/Google-Colab-Projects/blob/main/GuessThe_Number(Comp)pynb.ipynb\" target=\"_parent\"><img src=\"https://colab.research.google.com/assets/colab-badge.svg\" alt=\"Open In Colab\"/></a>"
      ]
    },
    {
      "cell_type": "code",
      "execution_count": 10,
      "metadata": {
        "colab": {
          "base_uri": "https://localhost:8080/"
        },
        "id": "y2LNfJ4IVrwe",
        "outputId": "7405a016-9a14-4827-aea5-c94159b6f639"
      },
      "outputs": [
        {
          "output_type": "stream",
          "name": "stdout",
          "text": [
            "\u001b[96m🎯 Welcome to the Number Guessing Game! 🎯\u001b[0m\n",
            "\u001b[93m🤔 Try to guess a number between 1 and 10!\u001b[0m\n",
            "➡️ Enter your guess: 5\n",
            "\u001b[94m📈 Too high! Try again. 🔽\u001b[0m\n",
            "➡️ Enter your guess: 2\n",
            "\u001b[94m📈 Too high! Try again. 🔽\u001b[0m\n",
            "➡️ Enter your guess: 1\n",
            "\u001b[92m🎉 Congrats! You guessed the number 1 correctly in 3 attempts! 🎊🎯\u001b[0m\n"
          ]
        }
      ],
      "source": [
        "import random\n",
        "\n",
        "# ANSI Escape Codes for Colors\n",
        "RED = \"\\033[91m\"\n",
        "GREEN = \"\\033[92m\"\n",
        "YELLOW = \"\\033[93m\"\n",
        "BLUE = \"\\033[94m\"\n",
        "MAGENTA = \"\\033[95m\"\n",
        "CYAN = \"\\033[96m\"\n",
        "RESET = \"\\033[0m\"  # Reset color\n",
        "\n",
        "def guess(x):\n",
        "    random_number = random.randint(1, x)\n",
        "    guess = 0\n",
        "    attempts = 0\n",
        "\n",
        "    print(CYAN + \"🎯 Welcome to the Number Guessing Game! 🎯\" + RESET)\n",
        "    print(YELLOW + f\"🤔 Try to guess a number between 1 and {x}!\" + RESET)\n",
        "\n",
        "    while guess != random_number:\n",
        "        try:\n",
        "            guess = int(input(\"➡️ Enter your guess: \"))\n",
        "            attempts += 1\n",
        "\n",
        "            if guess < random_number:\n",
        "                print(RED + \"📉 Too low! Try again. 🔼\" + RESET)\n",
        "            elif guess > random_number:\n",
        "                print(BLUE + \"📈 Too high! Try again. 🔽\" + RESET)\n",
        "        except ValueError:\n",
        "            print(MAGENTA + \"🚨 Invalid input! Please enter a number. 🔢\" + RESET)\n",
        "\n",
        "    print(GREEN + f\"🎉 Congrats! You guessed the number {random_number} correctly in {attempts} attempts! 🎊🎯\" + RESET)\n",
        "\n",
        "# Call the function\n",
        "guess(10)\n"
      ]
    }
  ]
}