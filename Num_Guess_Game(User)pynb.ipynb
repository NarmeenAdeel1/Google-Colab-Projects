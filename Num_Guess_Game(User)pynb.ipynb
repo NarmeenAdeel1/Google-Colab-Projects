{
  "cells": [
    {
      "cell_type": "markdown",
      "metadata": {
        "id": "view-in-github",
        "colab_type": "text"
      },
      "source": [
        "<a href=\"https://colab.research.google.com/github/NarmeenAdeel1/Google-Colab-Projects/blob/main/Num_Guess_Game(User)pynb.ipynb\" target=\"_parent\"><img src=\"https://colab.research.google.com/assets/colab-badge.svg\" alt=\"Open In Colab\"/></a>"
      ]
    },
    {
      "cell_type": "code",
      "execution_count": 3,
      "metadata": {
        "colab": {
          "base_uri": "https://localhost:8080/"
        },
        "id": "OzRiUKm8eYvj",
        "outputId": "78cd54bc-02b1-44ba-afe5-dba841487652"
      },
      "outputs": [
        {
          "output_type": "stream",
          "name": "stdout",
          "text": [
            "\u001b[96m💻 Think of a number between 1 and 10, and I'll try to guess it! 🤖\u001b[0m\n",
            "Is 1 too high (h), too low (l), or correct (c)? l\n",
            "Is 6 too high (h), too low (l), or correct (c)? h\n",
            "Is 4 too high (h), too low (l), or correct (c)? c\n",
            "\u001b[92m🎉 Yay! The computer guessed your number 4 correctly! 🎊\u001b[0m\n"
          ]
        }
      ],
      "source": [
        "import random\n",
        "\n",
        "# ANSI Escape Codes for Colors\n",
        "RED = \"\\033[91m\"\n",
        "GREEN = \"\\033[92m\"\n",
        "YELLOW = \"\\033[93m\"\n",
        "BLUE = \"\\033[94m\"\n",
        "MAGENTA = \"\\033[95m\"\n",
        "CYAN = \"\\033[96m\"\n",
        "RESET = \"\\033[0m\"  # Reset color\n",
        "\n",
        "def computer_guess(x):\n",
        "    low = 1\n",
        "    high = x\n",
        "    feedback = \"\"\n",
        "\n",
        "    print(CYAN + f\"💻 Think of a number between 1 and {x}, and I'll try to guess it! 🤖\" + RESET)\n",
        "\n",
        "    while feedback != \"c\":\n",
        "        if low <= high:\n",
        "            guess = random.randint(low, high)  # Safe range\n",
        "        else:\n",
        "            break  # Agar range invalid ho jaye\n",
        "\n",
        "        feedback = input(f\"Is {guess} too high (h), too low (l), or correct (c)? \").lower()\n",
        "\n",
        "        if feedback == \"h\":\n",
        "            high = guess - 1\n",
        "        elif feedback == \"l\":\n",
        "            low = guess + 1\n",
        "\n",
        "    print(GREEN + f\"🎉 Yay! The computer guessed your number {guess} correctly! 🎊\" + RESET)\n",
        "\n",
        "# Run the function\n",
        "computer_guess(10)\n"
      ]
    }
  ],
  "metadata": {
    "colab": {
      "provenance": [],
      "authorship_tag": "ABX9TyNZOebTsg9BELkeRwg3HMDS",
      "include_colab_link": true
    },
    "kernelspec": {
      "display_name": "Python 3",
      "name": "python3"
    },
    "language_info": {
      "name": "python"
    }
  },
  "nbformat": 4,
  "nbformat_minor": 0
}