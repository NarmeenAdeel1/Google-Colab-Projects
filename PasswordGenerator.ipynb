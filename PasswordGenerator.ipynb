{
  "nbformat": 4,
  "nbformat_minor": 0,
  "metadata": {
    "colab": {
      "provenance": [],
      "authorship_tag": "ABX9TyMn6E4pCtd7Q2xvg6cUkxqo",
      "include_colab_link": true
    },
    "kernelspec": {
      "name": "python3",
      "display_name": "Python 3"
    },
    "language_info": {
      "name": "python"
    }
  },
  "cells": [
    {
      "cell_type": "markdown",
      "metadata": {
        "id": "view-in-github",
        "colab_type": "text"
      },
      "source": [
        "<a href=\"https://colab.research.google.com/github/NarmeenAdeel1/Google-Colab-Projects/blob/main/PasswordGenerator.ipynb\" target=\"_parent\"><img src=\"https://colab.research.google.com/assets/colab-badge.svg\" alt=\"Open In Colab\"/></a>"
      ]
    },
    {
      "cell_type": "code",
      "execution_count": 3,
      "metadata": {
        "colab": {
          "base_uri": "https://localhost:8080/",
          "height": 110
        },
        "id": "jo1WlHIYGJqN",
        "outputId": "988a3b69-593d-46bf-fb3f-ccac31dad468"
      },
      "outputs": [
        {
          "output_type": "error",
          "ename": "SyntaxError",
          "evalue": "unterminated string literal (detected at line 24) (<ipython-input-3-c6f4548eb481>, line 24)",
          "traceback": [
            "\u001b[0;36m  File \u001b[0;32m\"<ipython-input-3-c6f4548eb481>\"\u001b[0;36m, line \u001b[0;32m24\u001b[0m\n\u001b[0;31m    display(HTML(f\"<h2 style='color:teal;'>🔑 Here is your shiny password:\u001b[0m\n\u001b[0m                 ^\u001b[0m\n\u001b[0;31mSyntaxError\u001b[0m\u001b[0;31m:\u001b[0m unterminated string literal (detected at line 24)\n"
          ]
        }
      ],
      "source": [
        "import random\n",
        "import string\n",
        "from IPython.display import display, HTML\n",
        "\n",
        "def generate_custom_password(length=8, include_numbers=True, include_special=True,\n",
        "                             include_uppercase=True):\n",
        "    # Character sets based on user input\n",
        "    lower = string.ascii_lowercase\n",
        "    upper = string.ascii_uppercase if include_uppercase else ''\n",
        "    digits = string.digits if include_numbers else ''\n",
        "    specials = string.punctuation if include_special else ''\n",
        "\n",
        "    all_chars = lower + upper + digits + specials\n",
        "\n",
        "    # If no characters are selected, return a friendly message\n",
        "    if not all_chars:\n",
        "        return \"Please choose at least one character type.\"\n",
        "\n",
        "    password = ''.join(random.choice(all_chars) for _ in range(length))\n",
        "    return password\n",
        "\n",
        "def fancy_display(password):\n",
        "    # Display the password with emojis and colors\n",
        "    display(HTML(f\"<h2 style='color:teal;'>🔑 Here is your shiny password: <span style='color:orange;'>🔒 {password} 🔓</span></h2>\"))\n",
        "\n",
        "# User Input\n",
        "password_length = int(input(\"Enter the length of your password: \"))\n",
        "use_numbers = input(\"Want to include numbers? (y/n): \").lower() == 'y'\n",
        "use_specials = input(\"Want special characters? (y/n): \").lower() == 'y'\n",
        "use_uppercase = input(\"Want uppercase letters? (y/n): \").lower() == 'y'\n",
        "\n",
        "# Generate and display password\n",
        "new_password = generate_custom_password(password_length, use_numbers, use_specials, use_uppercase)\n",
        "fancy_display(new_password)\n"
      ]
    }
  ]
}