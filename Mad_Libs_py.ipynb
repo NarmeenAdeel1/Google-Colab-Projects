{
  "cells": [
    {
      "cell_type": "markdown",
      "metadata": {
        "id": "view-in-github",
        "colab_type": "text"
      },
      "source": [
        "<a href=\"https://colab.research.google.com/github/NarmeenAdeel1/Google-Colab-Projects/blob/main/Mad_Libs_py.ipynb\" target=\"_parent\"><img src=\"https://colab.research.google.com/assets/colab-badge.svg\" alt=\"Open In Colab\"/></a>"
      ]
    },
    {
      "cell_type": "code",
      "execution_count": null,
      "metadata": {
        "colab": {
          "base_uri": "https://localhost:8080/"
        },
        "id": "U-qz_8Uvxb9_",
        "outputId": "747567c1-8c89-45a0-be80-9a53383f50fa"
      },
      "outputs": [
        {
          "output_type": "stream",
          "name": "stdout",
          "text": [
            "Welcome to the HILARIOUS Mab Lib Game!\n",
            "Get Ready to Create a Crazy Story full of FUN!\n",
            "🤪 Enter a Funny Name:Biryani BaBa\n",
            "🎨 Enter an Adjective(Describing Word):Spicy\n",
            "🌈 Enter another Adjective:Extra-Crispy\n",
            "💃 Enter a Verb(Action word):Dance With\n",
            "🎭 Enter another Verb:Sing Opera to\n",
            "🏰 Enter a Noun(Place, Thing or object):Giant Samosa\n",
            "🐉 Enter another Noun:Talking Paratha\n",
            "🚀 Enter a adverb(Describes how somthing happens):Dramatically\n",
            "\n",
            " Create Your AMAZING Story...⏳🤩 \n",
            "\n",
            "🎭============================================================🎭\n",
            " 📜 Once upon a time, Biryani BaBa went on a Spicy adventure! 🌟\n",
            "They decided to Dance With a Giant Samosa, but it was too Extra-Crispy! 🤯\n",
            "Suddenly, a Talking Paratha appeared and started to Sing Opera to Dramatically. 🎢\n",
            "It was the most exciting day ever! 🎉😂\n",
            "\n",
            "🎭============================================================🎭\n"
          ]
        }
      ],
      "source": [
        "import time #for fun loading effect\n",
        "\n",
        "#Welcome messange\n",
        "\n",
        "print(\"Welcome to the HILARIOUS Mab Lib Game!\")\n",
        "time.sleep(1)\n",
        "\n",
        "print(\"Get Ready to Create a Crazy Story full of FUN!\")\n",
        "time.sleep(1)\n",
        "\n",
        "#Collecting User inputs with fun prompts and emogies\n",
        "\n",
        "name = input(\"🤪 Enter a Funny Name:\")\n",
        "adj1 = input(\"🎨 Enter an Adjective(Describing Word):\")\n",
        "adj2 = input(\"🌈 Enter another Adjective:\")\n",
        "verb1 = input(\"💃 Enter a Verb(Action word):\")\n",
        "verb2 = input(\"🎭 Enter another Verb:\")\n",
        "noun1 = input(\"🏰 Enter a Noun(Place, Thing or object):\")\n",
        "noun2 = input(\"🐉 Enter another Noun:\")\n",
        "adverb = input(\"🚀 Enter a adverb(Describes how somthing happens):\")\n",
        "\n",
        "#Fun loading effect 🎭:\n",
        "print(\"\\n Create Your AMAZING Story...⏳🤩 \\n\")\n",
        "time.sleep(2) #Wait for 2 sec for effect\n",
        "\n",
        "story = f\"\"\" 📜 Once upon a time, {name} went on a {adj1} adventure! 🌟\n",
        "They decided to {verb1} a {noun1}, but it was too {adj2}! 🤯\n",
        "Suddenly, a {noun2} appeared and started to {verb2} {adverb}. 🎢\n",
        "It was the most exciting day ever! 🎉😂\n",
        "\"\"\"\n",
        "\n",
        "\n",
        "\n",
        "#📜Printing the story with fancy formating:\n",
        "print(\"🎭\" + \"=\" * 60 + \"🎭\")\n",
        "print(story)\n",
        "print(\"🎭\" + \"=\" * 60 + \"🎭\")\n",
        "\n",
        "#If they want to play again?\n",
        "while True:\n",
        "  play_again = input(\"\\n Want to create another Hilarious Story? (yes/no):\").lower()\n",
        "  if play_again == \"yes\":\n",
        "    print(\"\\n✨ Restarting the Madness... 🚀😂\\n\")\n",
        "    time.sleep(1)\n",
        "\n",
        "    name = input(\"🤪 Enter a Funny Name:\")\n",
        "    adj1 = input(\"🎨 Enter an Adjective(Describing Word):\")\n",
        "    adj2 = input(\"🌈 Enter another Adjective:\")\n",
        "    verb1 = input(\"💃 Enter a Verb(Action word):\")\n",
        "    verb2 = input(\"🎭 Enter another Verb:\")\n",
        "    noun1 = input(\"🏰 Enter a Noun(Place, Thing or object):\")\n",
        "    noun2 = input(\"🐉 Enter another Noun:\")\n",
        "    adverb = input(\"🚀 Enter a adverb(Describes how somthing happens):\")\n",
        "\n",
        "    #Fun loading effect 🎭:\n",
        "    print(\"\\n Create Your AMAZING Story...⏳🤩 \\n\")\n",
        "    time.sleep(2) #Wait for 2 sec for effect\n",
        "\n",
        "    story = f\"\"\" 📜 Once upon a time, {name} went on a {adj1} adventure! 🌟\n",
        "They decided to {verb1} a {noun1}, but it was too {adj2}! 🤯\n",
        "Suddenly, a {noun2} appeared and started to {verb2} {adverb}. 🎢\n",
        "It was the most exciting day ever! 🎉😂\n",
        "\"\"\"\n",
        "\n",
        "\n",
        "\n",
        "   #📜Printing the story with fancy formating:\n",
        "    print(\"🎭\" + \"=\" * 60 + \"🎭\")\n",
        "    print(story)\n",
        "    print(\"🎭\" + \"=\" * 60 + \"🎭\")\n",
        "\n",
        "  elif play_again == 'no':\n",
        "        print(\"\\n🎉 Thanks for playing! Stay awesome and keep laughing! 🤪🔥\")\n",
        "        break\n",
        "  else:\n",
        "        print(\"❌ Please enter 'yes' or 'no'.\")\n",
        "\n",
        "\n",
        "\n",
        "\n"
      ]
    }
  ],
  "metadata": {
    "colab": {
      "provenance": [],
      "authorship_tag": "ABX9TyNufd9aM4nWbwFqIavPkX/t",
      "include_colab_link": true
    },
    "kernelspec": {
      "display_name": "Python 3",
      "name": "python3"
    },
    "language_info": {
      "name": "python"
    }
  },
  "nbformat": 4,
  "nbformat_minor": 0
}