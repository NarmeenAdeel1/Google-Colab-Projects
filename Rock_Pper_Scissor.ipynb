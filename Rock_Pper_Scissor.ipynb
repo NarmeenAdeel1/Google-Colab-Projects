{
  "nbformat": 4,
  "nbformat_minor": 0,
  "metadata": {
    "colab": {
      "provenance": [],
      "authorship_tag": "ABX9TyPU6NATqkE7CYGxtC6A1c1R",
      "include_colab_link": true
    },
    "kernelspec": {
      "name": "python3",
      "display_name": "Python 3"
    },
    "language_info": {
      "name": "python"
    }
  },
  "cells": [
    {
      "cell_type": "markdown",
      "metadata": {
        "id": "view-in-github",
        "colab_type": "text"
      },
      "source": [
        "<a href=\"https://colab.research.google.com/github/NarmeenAdeel1/Google-Colab-Projects/blob/main/Rock_Pper_Scissor.ipynb\" target=\"_parent\"><img src=\"https://colab.research.google.com/assets/colab-badge.svg\" alt=\"Open In Colab\"/></a>"
      ]
    },
    {
      "cell_type": "code",
      "execution_count": 11,
      "metadata": {
        "colab": {
          "base_uri": "https://localhost:8080/"
        },
        "id": "d_RuUuDs9Pwv",
        "outputId": "dcb00483-23c9-46dc-e8c8-6eefbbeaed9c"
      },
      "outputs": [
        {
          "output_type": "stream",
          "name": "stdout",
          "text": [
            "\n",
            "Rock 🪨 | Paper 📜 | Scissors ✂️\n",
            "\u001b[33mChoose 'R' for Rock, 'P' for Paper, 'S' for Scissors: R\n",
            "Computer chose: S\n",
            "You Won! 🎉\n",
            "\u001b[36mWant to play again? (Y/N): Y\n",
            "\n",
            "Rock 🪨 | Paper 📜 | Scissors ✂️\n",
            "\u001b[33mChoose 'R' for Rock, 'P' for Paper, 'S' for Scissors: P\n",
            "Computer chose: S\n",
            "You Lost! 😢\n",
            "\u001b[36mWant to play again? (Y/N): Y\n",
            "\n",
            "Rock 🪨 | Paper 📜 | Scissors ✂️\n",
            "\u001b[33mChoose 'R' for Rock, 'P' for Paper, 'S' for Scissors: S\n",
            "Computer chose: P\n",
            "You Won! 🎉\n",
            "\u001b[36mWant to play again? (Y/N): N\n",
            "Thanks for playing! See you next time. 👋\n"
          ]
        }
      ],
      "source": [
        "import random\n",
        "import colorama\n",
        "from colorama import Fore, Style\n",
        "\n",
        "colorama.init(autoreset=True)  # Auto reset colors after each print\n",
        "\n",
        "def play():\n",
        "    while True:  # Loop for replaying\n",
        "        print(Fore.CYAN + \"\\nRock 🪨 | Paper 📜 | Scissors ✂️\")\n",
        "        user = input(Fore.YELLOW + \"Choose 'R' for Rock, 'P' for Paper, 'S' for Scissors: \").upper()\n",
        "\n",
        "        if user not in ['R', 'P', 'S']:\n",
        "            print(Fore.RED + \"Invalid choice! Please enter R, P, or S.\")\n",
        "            continue  # Restart if input is invalid\n",
        "\n",
        "        computer = random.choice(['R', 'P', 'S'])\n",
        "        print(Fore.MAGENTA + f\"Computer chose: {computer}\")\n",
        "\n",
        "        if user == computer:\n",
        "            print(Fore.BLUE + \"It's a Tie! 🤝\")\n",
        "        elif is_win(user, computer):\n",
        "            print(Fore.GREEN + \"You Won! 🎉\")\n",
        "        else:\n",
        "            print(Fore.RED + \"You Lost! 😢\")\n",
        "\n",
        "        # Play Again Option\n",
        "        play_again = input(Fore.CYAN + \"Want to play again? (Y/N): \").upper()\n",
        "        if play_again != 'Y':\n",
        "            print(Fore.YELLOW + \"Thanks for playing! See you next time. 👋\")\n",
        "            break\n",
        "\n",
        "def is_win(player, opponent):\n",
        "    return (player == 'R' and opponent == 'S') or \\\n",
        "           (player == 'S' and opponent == 'P') or \\\n",
        "           (player == 'P' and opponent == 'R')\n",
        "\n",
        "# Start the game\n",
        "play()\n"
      ]
    },
    {
      "cell_type": "code",
      "source": [
        "!pip install colorama\n"
      ],
      "metadata": {
        "colab": {
          "base_uri": "https://localhost:8080/"
        },
        "id": "5-lSPFX2CZs7",
        "outputId": "fc5f4160-c8e6-4809-a2ef-ac87d4ffbbcb"
      },
      "execution_count": 9,
      "outputs": [
        {
          "output_type": "stream",
          "name": "stdout",
          "text": [
            "Collecting colorama\n",
            "  Downloading colorama-0.4.6-py2.py3-none-any.whl.metadata (17 kB)\n",
            "Downloading colorama-0.4.6-py2.py3-none-any.whl (25 kB)\n",
            "Installing collected packages: colorama\n",
            "Successfully installed colorama-0.4.6\n"
          ]
        }
      ]
    }
  ]
}