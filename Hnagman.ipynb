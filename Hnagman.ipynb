{
  "nbformat": 4,
  "nbformat_minor": 0,
  "metadata": {
    "colab": {
      "provenance": [],
      "authorship_tag": "ABX9TyNMxSPlu0omGe2XTlrvOHNp",
      "include_colab_link": true
    },
    "kernelspec": {
      "name": "python3",
      "display_name": "Python 3"
    },
    "language_info": {
      "name": "python"
    }
  },
  "cells": [
    {
      "cell_type": "markdown",
      "metadata": {
        "id": "view-in-github",
        "colab_type": "text"
      },
      "source": [
        "<a href=\"https://colab.research.google.com/github/NarmeenAdeel1/Google-Colab-Projects/blob/main/Hnagman.ipynb\" target=\"_parent\"><img src=\"https://colab.research.google.com/assets/colab-badge.svg\" alt=\"Open In Colab\"/></a>"
      ]
    },
    {
      "cell_type": "code",
      "execution_count": 8,
      "metadata": {
        "colab": {
          "base_uri": "https://localhost:8080/"
        },
        "id": "0-mJNtSIJvdE",
        "outputId": "9a234033-9244-4ee7-af01-fb6ee95eaf3b"
      },
      "outputs": [
        {
          "name": "stdout",
          "output_type": "stream",
          "text": [
            "\n",
            "🎮 Welcome to HANGMAN!\n",
            "You have 6 attempts. Good luck!\n",
            "\n",
            "Used letters: \n",
            "Current word: - - - - - - -\n",
            "\u001b[34mGuess a letter: a\n",
            "✅ Correct!\n",
            "\n",
            "Used letters: A\n",
            "Current word: - A - - - A -\n",
            "\u001b[34mGuess a letter: n\n",
            "✅ Correct!\n",
            "\n",
            "Used letters: A N\n",
            "Current word: - A N - - A N\n",
            "\u001b[34mGuess a letter: o\n",
            "❌ Wrong! 5 attempts left.\n",
            "\n",
            "Used letters: A N O\n",
            "Current word: - A N - - A N\n",
            "\u001b[34mGuess a letter: e\n",
            "❌ Wrong! 4 attempts left.\n",
            "\n",
            "Used letters: A E N O\n",
            "Current word: - A N - - A N\n",
            "\u001b[34mGuess a letter: y\n",
            "❌ Wrong! 3 attempts left.\n",
            "\n",
            "Used letters: A E N O Y\n",
            "Current word: - A N - - A N\n",
            "\u001b[34mGuess a letter: i\n",
            "❌ Wrong! 2 attempts left.\n",
            "\n",
            "Used letters: A E I N O Y\n",
            "Current word: - A N - - A N\n",
            "\u001b[34mGuess a letter: o\n",
            "⚠️ You already used that letter. Try again.\n",
            "\n",
            "Used letters: A E I N O Y\n",
            "Current word: - A N - - A N\n",
            "\u001b[34mGuess a letter: l\n",
            "❌ Wrong! 1 attempts left.\n",
            "\n",
            "Used letters: A E I L N O Y\n",
            "Current word: - A N - - A N\n",
            "\u001b[34mGuess a letter: f\n",
            "❌ Wrong! 0 attempts left.\n",
            "\n",
            "💀 Game Over! The word was: HANGMAN\n",
            "\u001b[36m\n",
            "Play again? (Y/N): n\n"
          ]
        }
      ],
      "source": [
        "import random\n",
        "import string\n",
        "from colorama import Fore, Style, init\n",
        "\n",
        "# Initialize colorama for colored output\n",
        "init(autoreset=True)\n",
        "\n",
        "# List of words (Computer randomly selects one)\n",
        "words = [\"PYTHON\", \"DEVELOPER\", \"HANGMAN\", \"PROGRAM\", \"GITHUB\", \"CODING\"]\n",
        "\n",
        "def get_valid_word():\n",
        "    return random.choice(words)  # Random word select karega\n",
        "\n",
        "def hangman():\n",
        "    word = get_valid_word()  # Choose a random word\n",
        "    word_letters = set(word)  # Letters in the word\n",
        "    used_letters = set()  # Track guessed letters\n",
        "    attempts = 6  # Total attempts\n",
        "\n",
        "    print(Fore.CYAN + \"\\n🎮 Welcome to HANGMAN!\")\n",
        "    print(Fore.YELLOW + f\"You have {attempts} attempts. Good luck!\\n\")\n",
        "\n",
        "    while len(word_letters) > 0 and attempts > 0:\n",
        "        print(Fore.MAGENTA + \"Used letters:\", ' '.join(sorted(used_letters)))\n",
        "        word_display = [letter if letter in used_letters else '-' for letter in word]\n",
        "        print(Fore.GREEN + \"Current word:\", ' '.join(word_display))\n",
        "\n",
        "        user_letter = input(Fore.BLUE + \"Guess a letter: \").upper()\n",
        "\n",
        "        # Validation (Only A-Z allowed)\n",
        "        if not user_letter.isalpha() or len(user_letter) != 1:\n",
        "            print(Fore.RED + \"⚠️ Invalid character. Please enter a single letter.\\n\")\n",
        "            continue\n",
        "\n",
        "        if user_letter in used_letters:\n",
        "            print(Fore.YELLOW + \"⚠️ You already used that letter. Try again.\\n\")\n",
        "            continue\n",
        "\n",
        "        # Adding the guessed letter\n",
        "        used_letters.add(user_letter)\n",
        "\n",
        "        if user_letter in word_letters:\n",
        "            word_letters.remove(user_letter)\n",
        "            print(Fore.GREEN + \"✅ Correct!\\n\")\n",
        "        else:\n",
        "            attempts -= 1\n",
        "            print(Fore.RED + f\"❌ Wrong! {attempts} attempts left.\\n\")\n",
        "\n",
        "    # Game Over Conditions\n",
        "    if attempts == 0:\n",
        "        print(Fore.RED + f\"💀 Game Over! The word was: {word}\")\n",
        "    else:\n",
        "        print(Fore.GREEN + \"🎉 Congratulations! You guessed the word correctly!\")\n",
        "\n",
        "    # Play Again Option\n",
        "    play_again = input(Fore.CYAN + \"\\nPlay again? (Y/N): \").upper()\n",
        "    if play_again == 'Y':\n",
        "        hangman()\n",
        "\n",
        "hangman()\n"
      ]
    },
    {
      "cell_type": "code",
      "source": [
        "!pip install colorama\n"
      ],
      "metadata": {
        "colab": {
          "base_uri": "https://localhost:8080/"
        },
        "id": "hL3qXkmWQmNt",
        "outputId": "0876d204-a417-4d7e-fc1a-39bc843eaa0c"
      },
      "execution_count": 6,
      "outputs": [
        {
          "output_type": "stream",
          "name": "stdout",
          "text": [
            "Collecting colorama\n",
            "  Downloading colorama-0.4.6-py2.py3-none-any.whl.metadata (17 kB)\n",
            "Downloading colorama-0.4.6-py2.py3-none-any.whl (25 kB)\n",
            "Installing collected packages: colorama\n",
            "Successfully installed colorama-0.4.6\n"
          ]
        }
      ]
    }
  ]
}