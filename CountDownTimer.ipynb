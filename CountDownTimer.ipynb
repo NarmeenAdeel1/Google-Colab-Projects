{
  "nbformat": 4,
  "nbformat_minor": 0,
  "metadata": {
    "colab": {
      "provenance": [],
      "authorship_tag": "ABX9TyMnJlHPqreGw8y1Ot2l3frs",
      "include_colab_link": true
    },
    "kernelspec": {
      "name": "python3",
      "display_name": "Python 3"
    },
    "language_info": {
      "name": "python"
    }
  },
  "cells": [
    {
      "cell_type": "markdown",
      "metadata": {
        "id": "view-in-github",
        "colab_type": "text"
      },
      "source": [
        "<a href=\"https://colab.research.google.com/github/NarmeenAdeel1/Google-Colab-Projects/blob/main/CountDownTimer.ipynb\" target=\"_parent\"><img src=\"https://colab.research.google.com/assets/colab-badge.svg\" alt=\"Open In Colab\"/></a>"
      ]
    },
    {
      "cell_type": "code",
      "execution_count": 4,
      "metadata": {
        "colab": {
          "base_uri": "https://localhost:8080/",
          "height": 108
        },
        "id": "3RVZfo37_Pd5",
        "outputId": "5463d5fc-829b-4b48-f69e-a52eed2704b0"
      },
      "outputs": [
        {
          "output_type": "display_data",
          "data": {
            "text/plain": [
              "<IPython.core.display.HTML object>"
            ],
            "text/html": [
              "<h2 style='color:blue;'>⏳ Countdown: 00:01 ⏳</h2>"
            ]
          },
          "metadata": {}
        },
        {
          "output_type": "display_data",
          "data": {
            "text/plain": [
              "<IPython.core.display.HTML object>"
            ],
            "text/html": [
              "<h2 style='color:red;'>🎉 Time's up! 🎉</h2>"
            ]
          },
          "metadata": {}
        }
      ],
      "source": [
        "import time\n",
        "from IPython.display import display, HTML\n",
        "from IPython.display import clear_output\n",
        "\n",
        "# Function to start the countdown\n",
        "def countdown_timer(seconds):\n",
        "    display(HTML(\"<h2 style='color:green;'>Countdown Starting... 🔥</h2>\"))\n",
        "    while seconds > 0:\n",
        "        minutes, secs = divmod(seconds, 60)\n",
        "        timer = f\"{minutes:02d}:{secs:02d}\"\n",
        "        clear_output(wait=True)\n",
        "        display(HTML(f\"<h2 style='color:blue;'>⏳ Countdown: {timer} ⏳</h2>\"))\n",
        "        time.sleep(1)\n",
        "        seconds -= 1\n",
        "\n",
        "    display(HTML(\"<h2 style='color:red;'>🎉 Time's up! 🎉</h2>\"))\n",
        "\n",
        "# User input for the countdown timer\n",
        "seconds_input = int(input(\"Enter time in seconds: \"))\n",
        "countdown_timer(seconds_input)\n"
      ]
    }
  ]
}